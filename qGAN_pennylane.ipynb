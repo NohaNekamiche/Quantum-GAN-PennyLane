{
  "cells": [
    {
      "cell_type": "markdown",
      "metadata": {
        "id": "5fCEDCU_qrC0"
      },
      "source": [
        "\n",
        "\n",
        "\n",
        "<h1>QGAN using PennyLane</h1>\n",
        "\n"
      ]
    },
    {
      "cell_type": "code",
      "source": [
        "pip install pennylane"
      ],
      "metadata": {
        "id": "5i5-nZb4qA6V",
        "outputId": "e17b4499-7f28-4472-975d-aa61b3829a73",
        "colab": {
          "base_uri": "https://localhost:8080/"
        }
      },
      "execution_count": null,
      "outputs": [
        {
          "output_type": "stream",
          "name": "stdout",
          "text": [
            "Collecting pennylane\n",
            "  Downloading PennyLane-0.22.2-py3-none-any.whl (880 kB)\n",
            "\u001b[K     |████████████████████████████████| 880 kB 6.8 MB/s \n",
            "\u001b[?25hRequirement already satisfied: networkx in /usr/local/lib/python3.7/dist-packages (from pennylane) (2.6.3)\n",
            "Collecting retworkx\n",
            "  Downloading retworkx-0.11.0-cp37-cp37m-manylinux_2_5_x86_64.manylinux1_x86_64.manylinux_2_12_x86_64.manylinux2010_x86_64.whl (1.6 MB)\n",
            "\u001b[K     |████████████████████████████████| 1.6 MB 25.1 MB/s \n",
            "\u001b[?25hRequirement already satisfied: numpy in /usr/local/lib/python3.7/dist-packages (from pennylane) (1.21.5)\n",
            "Requirement already satisfied: scipy in /usr/local/lib/python3.7/dist-packages (from pennylane) (1.4.1)\n",
            "Requirement already satisfied: autograd in /usr/local/lib/python3.7/dist-packages (from pennylane) (1.3)\n",
            "Requirement already satisfied: cachetools in /usr/local/lib/python3.7/dist-packages (from pennylane) (4.2.4)\n",
            "Collecting pennylane-lightning>=0.22\n",
            "  Downloading PennyLane_Lightning-0.22.1-cp37-cp37m-manylinux_2_17_x86_64.manylinux2014_x86_64.whl (8.5 MB)\n",
            "\u001b[K     |████████████████████████████████| 8.5 MB 20.3 MB/s \n",
            "\u001b[?25hCollecting autoray\n",
            "  Downloading autoray-0.2.5-py3-none-any.whl (16 kB)\n",
            "Requirement already satisfied: appdirs in /usr/local/lib/python3.7/dist-packages (from pennylane) (1.4.4)\n",
            "Collecting semantic-version==2.6\n",
            "  Downloading semantic_version-2.6.0-py3-none-any.whl (14 kB)\n",
            "Collecting toml\n",
            "  Downloading toml-0.10.2-py2.py3-none-any.whl (16 kB)\n",
            "Collecting ninja\n",
            "  Downloading ninja-1.10.2.3-py2.py3-none-manylinux_2_5_x86_64.manylinux1_x86_64.whl (108 kB)\n",
            "\u001b[K     |████████████████████████████████| 108 kB 55.0 MB/s \n",
            "\u001b[?25hRequirement already satisfied: future>=0.15.2 in /usr/local/lib/python3.7/dist-packages (from autograd->pennylane) (0.16.0)\n",
            "Installing collected packages: ninja, toml, semantic-version, retworkx, pennylane-lightning, autoray, pennylane\n",
            "Successfully installed autoray-0.2.5 ninja-1.10.2.3 pennylane-0.22.2 pennylane-lightning-0.22.1 retworkx-0.11.0 semantic-version-2.6.0 toml-0.10.2\n"
          ]
        }
      ]
    },
    {
      "cell_type": "code",
      "source": [
        "import pennylane as qml\n",
        "import numpy as np\n",
        "import tensorflow as tf"
      ],
      "metadata": {
        "id": "ByiSvslvptNA"
      },
      "execution_count": null,
      "outputs": []
    },
    {
      "cell_type": "code",
      "source": [
        "pip install pennylane-qiskit pennylane-cirq"
      ],
      "metadata": {
        "id": "4Y35r-1nqOSI",
        "outputId": "08c5276c-5a20-41fe-b57d-3e605a024c6d",
        "colab": {
          "base_uri": "https://localhost:8080/",
          "height": 1000
        }
      },
      "execution_count": null,
      "outputs": [
        {
          "output_type": "stream",
          "name": "stdout",
          "text": [
            "Collecting pennylane-qiskit\n",
            "  Downloading PennyLane_qiskit-0.22.0-py3-none-any.whl (34 kB)\n",
            "Collecting pennylane-cirq\n",
            "  Downloading PennyLane_Cirq-0.22.0-py3-none-any.whl (22 kB)\n",
            "Collecting qiskit>=0.25\n",
            "  Downloading qiskit-0.35.0.tar.gz (13 kB)\n",
            "Requirement already satisfied: networkx>=2.2 in /usr/local/lib/python3.7/dist-packages (from pennylane-qiskit) (2.6.3)\n",
            "Collecting mthree>=0.17\n",
            "  Downloading mthree-0.22.0-cp37-cp37m-manylinux_2_5_x86_64.manylinux1_x86_64.manylinux_2_12_x86_64.manylinux2010_x86_64.whl (3.4 MB)\n",
            "\u001b[K     |████████████████████████████████| 3.4 MB 14.5 MB/s \n",
            "\u001b[?25hRequirement already satisfied: pennylane>=0.22 in /usr/local/lib/python3.7/dist-packages (from pennylane-qiskit) (0.22.2)\n",
            "Requirement already satisfied: numpy in /usr/local/lib/python3.7/dist-packages (from pennylane-qiskit) (1.21.5)\n",
            "Collecting qiskit-ibmq-provider>=0.15\n",
            "  Downloading qiskit_ibmq_provider-0.18.3-py3-none-any.whl (238 kB)\n",
            "\u001b[K     |████████████████████████████████| 238 kB 70.9 MB/s \n",
            "\u001b[?25hRequirement already satisfied: cython>=0.29 in /usr/local/lib/python3.7/dist-packages (from mthree>=0.17->pennylane-qiskit) (0.29.28)\n",
            "Requirement already satisfied: scipy>=1.3 in /usr/local/lib/python3.7/dist-packages (from mthree>=0.17->pennylane-qiskit) (1.4.1)\n",
            "Collecting qiskit-terra>=0.18\n",
            "  Downloading qiskit_terra-0.20.0-cp37-cp37m-manylinux_2_17_x86_64.manylinux2014_x86_64.whl (6.5 MB)\n",
            "\u001b[K     |████████████████████████████████| 6.5 MB 56.8 MB/s \n",
            "\u001b[?25hCollecting orjson>=3.0.0\n",
            "  Downloading orjson-3.6.7-cp37-cp37m-manylinux_2_24_x86_64.whl (255 kB)\n",
            "\u001b[K     |████████████████████████████████| 255 kB 65.9 MB/s \n",
            "\u001b[?25hRequirement already satisfied: psutil in /usr/local/lib/python3.7/dist-packages (from mthree>=0.17->pennylane-qiskit) (5.4.8)\n",
            "Requirement already satisfied: pennylane-lightning>=0.22 in /usr/local/lib/python3.7/dist-packages (from pennylane>=0.22->pennylane-qiskit) (0.22.1)\n",
            "Requirement already satisfied: autograd in /usr/local/lib/python3.7/dist-packages (from pennylane>=0.22->pennylane-qiskit) (1.3)\n",
            "Requirement already satisfied: toml in /usr/local/lib/python3.7/dist-packages (from pennylane>=0.22->pennylane-qiskit) (0.10.2)\n",
            "Requirement already satisfied: retworkx in /usr/local/lib/python3.7/dist-packages (from pennylane>=0.22->pennylane-qiskit) (0.11.0)\n",
            "Requirement already satisfied: appdirs in /usr/local/lib/python3.7/dist-packages (from pennylane>=0.22->pennylane-qiskit) (1.4.4)\n",
            "Requirement already satisfied: semantic-version==2.6 in /usr/local/lib/python3.7/dist-packages (from pennylane>=0.22->pennylane-qiskit) (2.6.0)\n",
            "Requirement already satisfied: autoray in /usr/local/lib/python3.7/dist-packages (from pennylane>=0.22->pennylane-qiskit) (0.2.5)\n",
            "Requirement already satisfied: cachetools in /usr/local/lib/python3.7/dist-packages (from pennylane>=0.22->pennylane-qiskit) (4.2.4)\n",
            "Requirement already satisfied: ninja in /usr/local/lib/python3.7/dist-packages (from pennylane-lightning>=0.22->pennylane>=0.22->pennylane-qiskit) (1.10.2.3)\n",
            "Collecting qiskit-aer==0.10.3\n",
            "  Downloading qiskit_aer-0.10.3-cp37-cp37m-manylinux_2_12_x86_64.manylinux2010_x86_64.whl (18.0 MB)\n",
            "\u001b[K     |████████████████████████████████| 18.0 MB 77 kB/s \n",
            "\u001b[?25hCollecting qiskit-ignis==0.7.0\n",
            "  Downloading qiskit_ignis-0.7.0-py3-none-any.whl (200 kB)\n",
            "\u001b[K     |████████████████████████████████| 200 kB 48.8 MB/s \n",
            "\u001b[?25hRequirement already satisfied: requests>=2.19 in /usr/local/lib/python3.7/dist-packages (from qiskit-ibmq-provider>=0.15->mthree>=0.17->pennylane-qiskit) (2.23.0)\n",
            "Collecting requests-ntlm>=1.1.0\n",
            "  Downloading requests_ntlm-1.1.0-py2.py3-none-any.whl (5.7 kB)\n",
            "Collecting websocket-client>=1.0.1\n",
            "  Downloading websocket_client-1.3.2-py3-none-any.whl (54 kB)\n",
            "\u001b[K     |████████████████████████████████| 54 kB 3.2 MB/s \n",
            "\u001b[?25hRequirement already satisfied: python-dateutil>=2.8.0 in /usr/local/lib/python3.7/dist-packages (from qiskit-ibmq-provider>=0.15->mthree>=0.17->pennylane-qiskit) (2.8.2)\n",
            "Requirement already satisfied: urllib3>=1.21.1 in /usr/local/lib/python3.7/dist-packages (from qiskit-ibmq-provider>=0.15->mthree>=0.17->pennylane-qiskit) (1.24.3)\n",
            "Requirement already satisfied: setuptools>=40.1.0 in /usr/local/lib/python3.7/dist-packages (from qiskit-ignis==0.7.0->qiskit>=0.25->pennylane-qiskit) (57.4.0)\n",
            "Collecting tweedledum<2.0,>=1.1\n",
            "  Downloading tweedledum-1.1.1-cp37-cp37m-manylinux_2_12_x86_64.manylinux2010_x86_64.whl (943 kB)\n",
            "\u001b[K     |████████████████████████████████| 943 kB 49.5 MB/s \n",
            "\u001b[?25hCollecting scipy>=1.3\n",
            "  Downloading scipy-1.7.3-cp37-cp37m-manylinux_2_12_x86_64.manylinux2010_x86_64.whl (38.1 MB)\n",
            "\u001b[K     |████████████████████████████████| 38.1 MB 1.3 MB/s \n",
            "\u001b[?25hRequirement already satisfied: sympy>=1.3 in /usr/local/lib/python3.7/dist-packages (from qiskit-terra>=0.18->mthree>=0.17->pennylane-qiskit) (1.7.1)\n",
            "Collecting stevedore>=3.0.0\n",
            "  Downloading stevedore-3.5.0-py3-none-any.whl (49 kB)\n",
            "\u001b[K     |████████████████████████████████| 49 kB 6.7 MB/s \n",
            "\u001b[?25hCollecting ply>=3.10\n",
            "  Downloading ply-3.11-py2.py3-none-any.whl (49 kB)\n",
            "\u001b[K     |████████████████████████████████| 49 kB 3.4 MB/s \n",
            "\u001b[?25hCollecting python-constraint>=1.4\n",
            "  Downloading python-constraint-1.4.0.tar.bz2 (18 kB)\n",
            "Collecting symengine>=0.9\n",
            "  Downloading symengine-0.9.2-cp37-cp37m-manylinux2010_x86_64.whl (37.5 MB)\n",
            "\u001b[K     |████████████████████████████████| 37.5 MB 40 kB/s \n",
            "\u001b[?25hRequirement already satisfied: dill>=0.3 in /usr/local/lib/python3.7/dist-packages (from qiskit-terra>=0.18->mthree>=0.17->pennylane-qiskit) (0.3.4)\n",
            "Requirement already satisfied: six>=1.5 in /usr/local/lib/python3.7/dist-packages (from python-dateutil>=2.8.0->qiskit-ibmq-provider>=0.15->mthree>=0.17->pennylane-qiskit) (1.15.0)\n",
            "Requirement already satisfied: certifi>=2017.4.17 in /usr/local/lib/python3.7/dist-packages (from requests>=2.19->qiskit-ibmq-provider>=0.15->mthree>=0.17->pennylane-qiskit) (2021.10.8)\n",
            "Requirement already satisfied: chardet<4,>=3.0.2 in /usr/local/lib/python3.7/dist-packages (from requests>=2.19->qiskit-ibmq-provider>=0.15->mthree>=0.17->pennylane-qiskit) (3.0.4)\n",
            "Requirement already satisfied: idna<3,>=2.5 in /usr/local/lib/python3.7/dist-packages (from requests>=2.19->qiskit-ibmq-provider>=0.15->mthree>=0.17->pennylane-qiskit) (2.10)\n",
            "Collecting ntlm-auth>=1.0.2\n",
            "  Downloading ntlm_auth-1.5.0-py2.py3-none-any.whl (29 kB)\n",
            "Collecting cryptography>=1.3\n",
            "  Downloading cryptography-36.0.2-cp36-abi3-manylinux_2_24_x86_64.whl (3.6 MB)\n",
            "\u001b[K     |████████████████████████████████| 3.6 MB 52.3 MB/s \n",
            "\u001b[?25hRequirement already satisfied: cffi>=1.12 in /usr/local/lib/python3.7/dist-packages (from cryptography>=1.3->requests-ntlm>=1.1.0->qiskit-ibmq-provider>=0.15->mthree>=0.17->pennylane-qiskit) (1.15.0)\n",
            "Requirement already satisfied: pycparser in /usr/local/lib/python3.7/dist-packages (from cffi>=1.12->cryptography>=1.3->requests-ntlm>=1.1.0->qiskit-ibmq-provider>=0.15->mthree>=0.17->pennylane-qiskit) (2.21)\n",
            "Requirement already satisfied: importlib-metadata>=1.7.0 in /usr/local/lib/python3.7/dist-packages (from stevedore>=3.0.0->qiskit-terra>=0.18->mthree>=0.17->pennylane-qiskit) (4.11.3)\n",
            "Collecting pbr!=2.1.0,>=2.0.0\n",
            "  Downloading pbr-5.8.1-py2.py3-none-any.whl (113 kB)\n",
            "\u001b[K     |████████████████████████████████| 113 kB 78.1 MB/s \n",
            "\u001b[?25hRequirement already satisfied: zipp>=0.5 in /usr/local/lib/python3.7/dist-packages (from importlib-metadata>=1.7.0->stevedore>=3.0.0->qiskit-terra>=0.18->mthree>=0.17->pennylane-qiskit) (3.7.0)\n",
            "Requirement already satisfied: typing-extensions>=3.6.4 in /usr/local/lib/python3.7/dist-packages (from importlib-metadata>=1.7.0->stevedore>=3.0.0->qiskit-terra>=0.18->mthree>=0.17->pennylane-qiskit) (3.10.0.2)\n",
            "Requirement already satisfied: mpmath>=0.19 in /usr/local/lib/python3.7/dist-packages (from sympy>=1.3->qiskit-terra>=0.18->mthree>=0.17->pennylane-qiskit) (1.2.1)\n",
            "Collecting cirq-core>=0.10\n",
            "  Downloading cirq_core-0.14.0-py3-none-any.whl (1.8 MB)\n",
            "\u001b[K     |████████████████████████████████| 1.8 MB 25.9 MB/s \n",
            "\u001b[?25hCollecting cirq-pasqal>=0.10\n",
            "  Downloading cirq_pasqal-0.14.0-py3-none-any.whl (30 kB)\n",
            "Requirement already satisfied: tqdm in /usr/local/lib/python3.7/dist-packages (from cirq-core>=0.10->pennylane-cirq) (4.63.0)\n",
            "Collecting backports.cached-property~=1.0.1\n",
            "  Downloading backports.cached_property-1.0.1-py3-none-any.whl (5.7 kB)\n",
            "Requirement already satisfied: matplotlib~=3.0 in /usr/local/lib/python3.7/dist-packages (from cirq-core>=0.10->pennylane-cirq) (3.2.2)\n",
            "Requirement already satisfied: sortedcontainers~=2.0 in /usr/local/lib/python3.7/dist-packages (from cirq-core>=0.10->pennylane-cirq) (2.4.0)\n",
            "Collecting duet~=0.2.0\n",
            "  Downloading duet-0.2.5-py3-none-any.whl (28 kB)\n",
            "Requirement already satisfied: pandas in /usr/local/lib/python3.7/dist-packages (from cirq-core>=0.10->pennylane-cirq) (1.3.5)\n",
            "Collecting typing-extensions>=3.6.4\n",
            "  Downloading typing_extensions-3.10.0.0-py3-none-any.whl (26 kB)\n",
            "Requirement already satisfied: pyparsing!=2.0.4,!=2.1.2,!=2.1.6,>=2.0.1 in /usr/local/lib/python3.7/dist-packages (from matplotlib~=3.0->cirq-core>=0.10->pennylane-cirq) (3.0.7)\n",
            "Requirement already satisfied: kiwisolver>=1.0.1 in /usr/local/lib/python3.7/dist-packages (from matplotlib~=3.0->cirq-core>=0.10->pennylane-cirq) (1.4.0)\n",
            "Requirement already satisfied: cycler>=0.10 in /usr/local/lib/python3.7/dist-packages (from matplotlib~=3.0->cirq-core>=0.10->pennylane-cirq) (0.11.0)\n",
            "Requirement already satisfied: future>=0.15.2 in /usr/local/lib/python3.7/dist-packages (from autograd->pennylane>=0.22->pennylane-qiskit) (0.16.0)\n",
            "Requirement already satisfied: pytz>=2017.3 in /usr/local/lib/python3.7/dist-packages (from pandas->cirq-core>=0.10->pennylane-cirq) (2018.9)\n",
            "Building wheels for collected packages: qiskit, python-constraint\n",
            "  Building wheel for qiskit (setup.py) ... \u001b[?25l\u001b[?25hdone\n",
            "  Created wheel for qiskit: filename=qiskit-0.35.0-py3-none-any.whl size=11839 sha256=1122323283f80d0518b9b73081518339f0cb40a58e58fc35d7e92256466dd803\n",
            "  Stored in directory: /root/.cache/pip/wheels/1e/0a/42/93e5cc11795fb0a85fcf6686eac2791def0c9a1cad0a774045\n",
            "  Building wheel for python-constraint (setup.py) ... \u001b[?25l\u001b[?25hdone\n",
            "  Created wheel for python-constraint: filename=python_constraint-1.4.0-py2.py3-none-any.whl size=24081 sha256=b98b9887db210bfad0140337451d70c5d8cfe79395da31f82164386077fb99e4\n",
            "  Stored in directory: /root/.cache/pip/wheels/07/27/db/1222c80eb1e431f3d2199c12569cb1cac60f562a451fe30479\n",
            "Successfully built qiskit python-constraint\n",
            "Installing collected packages: typing-extensions, pbr, tweedledum, symengine, stevedore, scipy, python-constraint, ply, ntlm-auth, cryptography, websocket-client, requests-ntlm, qiskit-terra, duet, backports.cached-property, qiskit-ignis, qiskit-ibmq-provider, qiskit-aer, orjson, cirq-core, qiskit, mthree, cirq-pasqal, pennylane-qiskit, pennylane-cirq\n",
            "  Attempting uninstall: typing-extensions\n",
            "    Found existing installation: typing-extensions 3.10.0.2\n",
            "    Uninstalling typing-extensions-3.10.0.2:\n",
            "      Successfully uninstalled typing-extensions-3.10.0.2\n",
            "  Attempting uninstall: scipy\n",
            "    Found existing installation: scipy 1.4.1\n",
            "    Uninstalling scipy-1.4.1:\n",
            "      Successfully uninstalled scipy-1.4.1\n",
            "\u001b[31mERROR: pip's dependency resolver does not currently take into account all the packages that are installed. This behaviour is the source of the following dependency conflicts.\n",
            "tensorflow 2.8.0 requires tf-estimator-nightly==2.8.0.dev2021122109, which is not installed.\n",
            "albumentations 0.1.12 requires imgaug<0.2.7,>=0.2.5, but you have imgaug 0.2.9 which is incompatible.\u001b[0m\n",
            "Successfully installed backports.cached-property-1.0.1 cirq-core-0.14.0 cirq-pasqal-0.14.0 cryptography-36.0.2 duet-0.2.5 mthree-0.22.0 ntlm-auth-1.5.0 orjson-3.6.7 pbr-5.8.1 pennylane-cirq-0.22.0 pennylane-qiskit-0.22.0 ply-3.11 python-constraint-1.4.0 qiskit-0.35.0 qiskit-aer-0.10.3 qiskit-ibmq-provider-0.18.3 qiskit-ignis-0.7.0 qiskit-terra-0.20.0 requests-ntlm-1.1.0 scipy-1.7.3 stevedore-3.5.0 symengine-0.9.2 tweedledum-1.1.1 typing-extensions-3.10.0.0 websocket-client-1.3.2\n"
          ]
        },
        {
          "output_type": "display_data",
          "data": {
            "application/vnd.colab-display-data+json": {
              "pip_warning": {
                "packages": [
                  "scipy",
                  "typing_extensions"
                ]
              }
            }
          },
          "metadata": {}
        }
      ]
    },
    {
      "cell_type": "code",
      "source": [
        "dev = qml.device('cirq.simulator', wires=3)"
      ],
      "metadata": {
        "id": "cxUQf0BxqG0k"
      },
      "execution_count": null,
      "outputs": []
    },
    {
      "cell_type": "code",
      "source": [
        "def real(angles, **kwargs):\n",
        "    qml.Hadamard(wires=0)\n",
        "    qml.Rot(*angles, wires=0)"
      ],
      "metadata": {
        "id": "rihXmM21qG_3"
      },
      "execution_count": null,
      "outputs": []
    },
    {
      "cell_type": "code",
      "source": [
        "def generator(w, **kwargs):\n",
        "    qml.Hadamard(wires=0)\n",
        "    qml.RX(w[0], wires=0)\n",
        "    qml.RX(w[1], wires=1)\n",
        "    qml.RY(w[2], wires=0)\n",
        "    qml.RY(w[3], wires=1)\n",
        "    qml.RZ(w[4], wires=0)\n",
        "    qml.RZ(w[5], wires=1)\n",
        "    qml.CNOT(wires=[0, 1])\n",
        "    qml.RX(w[6], wires=0)\n",
        "    qml.RY(w[7], wires=0)\n",
        "    qml.RZ(w[8], wires=0)"
      ],
      "metadata": {
        "id": "5fmGFxQPudOR"
      },
      "execution_count": null,
      "outputs": []
    },
    {
      "cell_type": "code",
      "source": [
        "\n",
        "def discriminator(w):\n",
        "    qml.Hadamard(wires=0)\n",
        "    qml.RX(w[0], wires=0)\n",
        "    qml.RX(w[1], wires=2)\n",
        "    qml.RY(w[2], wires=0)\n",
        "    qml.RY(w[3], wires=2)\n",
        "    qml.RZ(w[4], wires=0)\n",
        "    qml.RZ(w[5], wires=2)\n",
        "    qml.CNOT(wires=[0, 2])\n",
        "    qml.RX(w[6], wires=2)\n",
        "    qml.RY(w[7], wires=2)\n",
        "    qml.RZ(w[8], wires=2)"
      ],
      "metadata": {
        "id": "9P2bEeleudRL"
      },
      "execution_count": null,
      "outputs": []
    },
    {
      "cell_type": "code",
      "source": [
        "@qml.qnode(dev, interface=\"tf\")\n",
        "def real_disc_circuit(phi, theta, omega, disc_weights):\n",
        "    real([phi, theta, omega])\n",
        "    discriminator(disc_weights)\n",
        "    return qml.expval(qml.PauliZ(2))\n",
        "\n",
        "\n",
        "@qml.qnode(dev, interface=\"tf\")\n",
        "def gen_disc_circuit(gen_weights, disc_weights):\n",
        "    generator(gen_weights)\n",
        "    discriminator(disc_weights)\n",
        "    return qml.expval(qml.PauliZ(2))"
      ],
      "metadata": {
        "id": "Nnun5noTudTm"
      },
      "execution_count": null,
      "outputs": []
    },
    {
      "cell_type": "code",
      "source": [
        "def prob_real_true(disc_weights):\n",
        "    true_disc_output = real_disc_circuit(phi, theta, omega, disc_weights)\n",
        "    # convert to probability\n",
        "    prob_real_true = (true_disc_output + 1) / 2\n",
        "    return prob_real_true\n",
        "\n",
        "\n",
        "def prob_fake_true(gen_weights, disc_weights):\n",
        "    fake_disc_output = gen_disc_circuit(gen_weights, disc_weights)\n",
        "    # convert to probability\n",
        "    prob_fake_true = (fake_disc_output + 1) / 2\n",
        "    return prob_fake_true\n",
        "\n",
        "\n",
        "def disc_cost(disc_weights):\n",
        "    cost = prob_fake_true(gen_weights, disc_weights) - prob_real_true(disc_weights)\n",
        "    return cost\n",
        "\n",
        "\n",
        "def gen_cost(gen_weights):\n",
        "    return -prob_fake_true(gen_weights, disc_weights)"
      ],
      "metadata": {
        "id": "lYJqW9Y2udYg"
      },
      "execution_count": null,
      "outputs": []
    },
    {
      "cell_type": "markdown",
      "source": [
        "# Training the QGAN"
      ],
      "metadata": {
        "id": "o3JiizvOvdlU"
      }
    },
    {
      "cell_type": "code",
      "source": [
        "phi = np.pi / 6\n",
        "theta = np.pi / 2\n",
        "omega = np.pi / 7\n",
        "np.random.seed(0)\n",
        "eps = 1e-2\n",
        "init_gen_weights = np.array([np.pi] + [0] * 8) + \\\n",
        "                   np.random.normal(scale=eps, size=(9,))\n",
        "init_disc_weights = np.random.normal(size=(9,))\n",
        "\n",
        "gen_weights = tf.Variable(init_gen_weights)\n",
        "disc_weights = tf.Variable(init_disc_weights)"
      ],
      "metadata": {
        "id": "86hNG9fQvV4M"
      },
      "execution_count": null,
      "outputs": []
    },
    {
      "cell_type": "code",
      "source": [
        "print(np.pi )"
      ],
      "metadata": {
        "colab": {
          "base_uri": "https://localhost:8080/"
        },
        "id": "4SUPJiIZvV7L",
        "outputId": "a63c32e0-bad3-4bfb-8e69-5e634af05edd"
      },
      "execution_count": null,
      "outputs": [
        {
          "output_type": "stream",
          "name": "stdout",
          "text": [
            "3.141592653589793\n"
          ]
        }
      ]
    },
    {
      "cell_type": "code",
      "source": [
        "print(gen_weights,disc_weights)"
      ],
      "metadata": {
        "colab": {
          "base_uri": "https://localhost:8080/"
        },
        "id": "3YLclhaAvV98",
        "outputId": "ad826dc6-5451-480b-c3bd-963c276fdd4c"
      },
      "execution_count": null,
      "outputs": [
        {
          "output_type": "stream",
          "name": "stdout",
          "text": [
            "<tf.Variable 'Variable:0' shape=(9,) dtype=float64, numpy=\n",
            "array([ 3.15923318e+00,  4.00157208e-03,  9.78737984e-03,  2.24089320e-02,\n",
            "        1.86755799e-02, -9.77277880e-03,  9.50088418e-03, -1.51357208e-03,\n",
            "       -1.03218852e-03])> <tf.Variable 'Variable:0' shape=(9,) dtype=float64, numpy=\n",
            "array([ 0.4105985 ,  0.14404357,  1.45427351,  0.76103773,  0.12167502,\n",
            "        0.44386323,  0.33367433,  1.49407907, -0.20515826])>\n"
          ]
        }
      ]
    },
    {
      "cell_type": "code",
      "source": [
        "opt = tf.keras.optimizers.SGD(0.4)"
      ],
      "metadata": {
        "id": "FvKTj5spvWCi"
      },
      "execution_count": null,
      "outputs": []
    },
    {
      "cell_type": "code",
      "source": [
        "cost = lambda: disc_cost(disc_weights)\n",
        "\n",
        "for step in range(50):\n",
        "    opt.minimize(cost, disc_weights)\n",
        "    if step % 5 == 0:\n",
        "        cost_val = cost().numpy()\n",
        "        print(\"Step {}: cost = {}\".format(step, cost_val))"
      ],
      "metadata": {
        "colab": {
          "base_uri": "https://localhost:8080/"
        },
        "id": "OoSYyGwCvWEt",
        "outputId": "2480956b-8c6e-4416-90b6-b3d00b44341b"
      },
      "execution_count": null,
      "outputs": [
        {
          "output_type": "stream",
          "name": "stdout",
          "text": [
            "Step 0: cost = -0.05727693438529968\n",
            "Step 5: cost = -0.2634810581803322\n",
            "Step 10: cost = -0.42739150300621986\n",
            "Step 15: cost = -0.4726157411932945\n",
            "Step 20: cost = -0.48406897485256195\n",
            "Step 25: cost = -0.48946385085582733\n",
            "Step 30: cost = -0.4928187355399132\n",
            "Step 35: cost = -0.49494922906160355\n",
            "Step 40: cost = -0.4962702915072441\n",
            "Step 45: cost = -0.4970718249678612\n"
          ]
        }
      ]
    },
    {
      "cell_type": "code",
      "source": [
        "print(\"Prob(real classified as real): \", prob_real_true(disc_weights).numpy())"
      ],
      "metadata": {
        "colab": {
          "base_uri": "https://localhost:8080/"
        },
        "id": "UPKHJTVEvWGp",
        "outputId": "fc5dd18c-cc80-4d25-ad66-dd88cdb3bae6"
      },
      "execution_count": null,
      "outputs": [
        {
          "output_type": "stream",
          "name": "stdout",
          "text": [
            "Prob(real classified as real):  0.9985871016979218\n"
          ]
        }
      ]
    },
    {
      "cell_type": "code",
      "source": [
        "print(\"Prob(fake classified as real): \", prob_fake_true(gen_weights, disc_weights).numpy())"
      ],
      "metadata": {
        "colab": {
          "base_uri": "https://localhost:8080/"
        },
        "id": "bjl5WQZL0JLV",
        "outputId": "c68d9538-3ad7-4f6c-c5e0-414b0c698237"
      },
      "execution_count": null,
      "outputs": [
        {
          "output_type": "stream",
          "name": "stdout",
          "text": [
            "Prob(fake classified as real):  0.5011128559708595\n"
          ]
        }
      ]
    },
    {
      "cell_type": "code",
      "source": [
        "cost = lambda: gen_cost(gen_weights)\n",
        "\n",
        "for step in range(50):\n",
        "    opt.minimize(cost, gen_weights)\n",
        "    if step % 5 == 0:\n",
        "        cost_val = cost().numpy()\n",
        "        print(\"Step {}: cost = {}\".format(step, cost_val))"
      ],
      "metadata": {
        "colab": {
          "base_uri": "https://localhost:8080/"
        },
        "id": "1t0iSMmQ0JOw",
        "outputId": "a70d7ce2-7b95-4e55-c3b1-d2fbf64c175a"
      },
      "execution_count": null,
      "outputs": [
        {
          "output_type": "stream",
          "name": "stdout",
          "text": [
            "Step 0: cost = -0.5833386555314064\n",
            "Step 5: cost = -0.8915733397006989\n",
            "Step 10: cost = -0.9784241914749146\n",
            "Step 15: cost = -0.9946482479572296\n",
            "Step 20: cost = -0.9984995126724243\n",
            "Step 25: cost = -0.9995638430118561\n",
            "Step 30: cost = -0.9998717308044434\n",
            "Step 35: cost = -0.9999619722366333\n",
            "Step 40: cost = -0.9999887645244598\n",
            "Step 45: cost = -0.9999964833259583\n"
          ]
        }
      ]
    },
    {
      "cell_type": "code",
      "source": [
        "print(\"Prob(fake classified as real): \", prob_fake_true(gen_weights, disc_weights).numpy())"
      ],
      "metadata": {
        "colab": {
          "base_uri": "https://localhost:8080/"
        },
        "id": "gU86qcp80JRc",
        "outputId": "7a6d5b33-16c4-4a5d-bf05-3f40641ef459"
      },
      "execution_count": null,
      "outputs": [
        {
          "output_type": "stream",
          "name": "stdout",
          "text": [
            "Prob(fake classified as real):  0.9999986886978149\n"
          ]
        }
      ]
    },
    {
      "cell_type": "code",
      "source": [
        "obs = [qml.PauliX(0), qml.PauliY(0), qml.PauliZ(0)]\n",
        "\n",
        "bloch_vector_real = qml.map(real, obs, dev, interface=\"tf\")\n",
        "bloch_vector_generator = qml.map(generator, obs, dev, interface=\"tf\")\n",
        "\n",
        "print(\"Real Bloch vector: {}\".format(bloch_vector_real([phi, theta, omega])))\n",
        "print(\"Generator Bloch vector: {}\".format(bloch_vector_generator(gen_weights)))"
      ],
      "metadata": {
        "colab": {
          "base_uri": "https://localhost:8080/"
        },
        "id": "TaM7NyHr0JUL",
        "outputId": "de029c25-6a98-4e69-815c-7e27c9d46eca"
      },
      "execution_count": null,
      "outputs": [
        {
          "output_type": "stream",
          "name": "stdout",
          "text": [
            "Real Bloch vector: [-0.21694186  0.45048442 -0.86602521]\n",
            "Generator Bloch vector: [-0.28404659  0.41893226 -0.86244404]\n"
          ]
        }
      ]
    },
    {
      "cell_type": "code",
      "source": [
        ""
      ],
      "metadata": {
        "id": "EkIXgEhK0JWs"
      },
      "execution_count": null,
      "outputs": []
    },
    {
      "cell_type": "code",
      "source": [
        ""
      ],
      "metadata": {
        "id": "y-ic5ah20JYb"
      },
      "execution_count": null,
      "outputs": []
    }
  ],
  "metadata": {
    "colab": {
      "collapsed_sections": [],
      "name": "qGAN pennylane",
      "toc_visible": true,
      "provenance": []
    },
    "kernelspec": {
      "display_name": "Python 3",
      "name": "python3"
    },
    "accelerator": "GPU"
  },
  "nbformat": 4,
  "nbformat_minor": 0
}